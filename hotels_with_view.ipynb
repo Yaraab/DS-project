{
 "cells": [
  {
   "cell_type": "code",
   "execution_count": 1,
   "id": "e95bc2c4",
   "metadata": {},
   "outputs": [
    {
     "name": "stdout",
     "output_type": "stream",
     "text": [
      "Data saved to: hotels_with_view.xlsx\n"
     ]
    }
   ],
   "source": [
    "import json\n",
    "import pandas as pd\n",
    "import requests\n",
    "from bs4 import BeautifulSoup\n",
    "\n",
    "def scrape_booking_hotels(url):\n",
    "    headers = {\n",
    "        \"User-Agent\": \"Mozilla/5.0 (Windows NT 10.0; Win64; x64) AppleWebKit/537.36 (KHTML, like Gecko) Chrome/58.0.3029.110 Safari/537.3\"\n",
    "    }\n",
    "    response = requests.get(url, headers=headers)\n",
    "    soup = BeautifulSoup(response.content, \"html.parser\")\n",
    "    hotels = []\n",
    "    hotel_cards = soup.find_all(\"div\", class_=\"c82435a4b8 a178069f51 a6ae3c2b40 a18aeea94d d794b7a0f7 f53e278e95 c6710787a4\")\n",
    "    for card in hotel_cards:\n",
    "        hotel_name = card.find(\"div\", class_=\"f6431b446c a15b38c233\").text.strip()\n",
    "        hotels.append({\"names\": hotel_name})  # Add beds text\n",
    "\n",
    "    return hotels\n",
    "\n",
    "def scrape_and_save_hotels(search_url):\n",
    "    all_hotels = []\n",
    "\n",
    "    try:\n",
    "        for i in range(1, 28):\n",
    "            hotels_on_page = scrape_booking_hotels(search_url + \"&offset=\" + str(i * 25))\n",
    "            all_hotels.extend(hotels_on_page)\n",
    "    except KeyboardInterrupt:\n",
    "        print(\"Execution interrupted by user.\")\n",
    "\n",
    "    return all_hotels\n",
    "\n",
    "def save_to_excel(data, file_path):\n",
    "    df = pd.DataFrame(data)\n",
    "    df.to_excel(file_path, index=False)\n",
    "    print(\"Data saved to:\", file_path)\n",
    "\n",
    "if __name__ == \"__main__\":\n",
    "    search_url = 'https://www.booking.com/searchresults.en-gb.html?label=en-sa-booking-desktop-UmcGSHJHH5d7CxRJ6pHCYgS652796015661%3Apl%3Ata%3Ap1%3Ap2%3Aac%3Aap%3Aneg%3Afi%3Atikwd-65526620%3Alp1012088%3Ali%3Adec%3Adm&sid=d7c87de715469e394879757ca2dd2e2d&aid=2311236&ss=Saudi+Arabia&ssne=Saudi+Arabia&ssne_untouched=Saudi+Arabia&efdco=1&lang=en-gb&src=searchresults&dest_id=186&dest_type=country&checkin=2024-06-03&checkout=2024-06-08&ltfd=1%3A5%3A5-2024_6-2024_7-2024%3A1%3A&group_adults=2&no_rooms=1&group_children=0&nflt=ht_id%3D204%3Broomfacility%3D81'\n",
    "    hotels_data = scrape_and_save_hotels(search_url)\n",
    "\n",
    "    excel_file_path = \"hotels_with_view.xlsx\"\n",
    "    save_to_excel(hotels_data, excel_file_path)"
   ]
  },
  {
   "cell_type": "code",
   "execution_count": null,
   "id": "f4be33a0",
   "metadata": {},
   "outputs": [],
   "source": []
  }
 ],
 "metadata": {
  "kernelspec": {
   "display_name": "Python 3 (ipykernel)",
   "language": "python",
   "name": "python3"
  },
  "language_info": {
   "codemirror_mode": {
    "name": "ipython",
    "version": 3
   },
   "file_extension": ".py",
   "mimetype": "text/x-python",
   "name": "python",
   "nbconvert_exporter": "python",
   "pygments_lexer": "ipython3",
   "version": "3.11.5"
  }
 },
 "nbformat": 4,
 "nbformat_minor": 5
}
